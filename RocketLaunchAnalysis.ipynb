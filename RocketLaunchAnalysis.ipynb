{
 "cells": [
  {
   "cell_type": "code",
   "execution_count": 25,
   "metadata": {
    "ExecuteTime": {
     "end_time": "2019-11-05T21:43:38.877960Z",
     "start_time": "2019-11-05T21:43:38.483045Z"
    }
   },
   "outputs": [],
   "source": [
    "import pandas as pd\n",
    "from matplotlib import pyplot as plt\n",
    "import re"
   ]
  },
  {
   "cell_type": "code",
   "execution_count": 17,
   "metadata": {
    "ExecuteTime": {
     "end_time": "2019-11-05T21:43:39.091071Z",
     "start_time": "2019-11-05T21:43:38.880614Z"
    }
   },
   "outputs": [],
   "source": [
    "launches = pd.read_csv('CSV/Launches Full.csv')\n",
    "orgs = pd.read_csv('csv/Orgs.csv')\n",
    "codes = pd.read_csv('csv/CountryCodes.csv')\n",
    "satcat = pd.read_csv('csv/satcat.csv')"
   ]
  },
  {
   "cell_type": "code",
   "execution_count": 18,
   "metadata": {
    "ExecuteTime": {
     "end_time": "2019-11-05T21:43:39.253654Z",
     "start_time": "2019-11-05T21:43:39.093438Z"
    }
   },
   "outputs": [
    {
     "name": "stdout",
     "output_type": "stream",
     "text": [
      "(24099, 28)\n"
     ]
    }
   ],
   "source": [
    "launches['Apogee'] = pd.to_numeric(launches['Apogee'], errors = 'coerce')\n",
    "launches = launches[launches['Apogee'] >=100 ] # 100 is the Karman line\n",
    "launches = launches[launches['Category'] != 'Not real'] # 2 Not Real values to be ommited.(i.e. unverified readings e.t.c)\n",
    "launches.LaunchCode = launches.LaunchCode.str.replace('(OS)[0-9]*', 'OS', regex = True).replace('(OF)[0-9]*', 'OF', regex = True) #Grouping Failed and successful Launches.\n",
    "launches.LaunchCode.astype('category', inplace = True) \n",
    "launches.reset_index(drop = True, inplace = True)\n",
    "launches = launches.merge(orgs[['StateCode', 'Class']], left_on = 'Agency', right_on = orgs.Code, how = 'left') # Adding Country and Entity identifiers from the orgs dataset\n",
    "launches = launches.merge(codes['Name'], left_on = 'StateCode', right_on = codes.Code, how = 'left') # Adding country names\n",
    "launches.rename(columns = {'Name' : 'Country'}, inplace = True)\n",
    "print(launches.shape)"
   ]
  },
  {
   "cell_type": "code",
   "execution_count": 19,
   "metadata": {
    "ExecuteTime": {
     "end_time": "2019-11-05T21:43:39.266773Z",
     "start_time": "2019-11-05T21:43:39.256086Z"
    }
   },
   "outputs": [
    {
     "data": {
      "text/plain": [
       "Index(['LaunchTag', 'JulianDate', 'Date', 'Year', 'LVType', 'Variant',\n",
       "       'FlightId', 'Flight', 'Mission', 'FlightCode', 'Platform', 'LaunchSite',\n",
       "       'LaunchPad', 'Apogee', 'Apoflag', 'Range', 'RangeFlag', 'Dest',\n",
       "       'Agency', 'LaunchCode', 'Group', 'Category', 'Citation1', 'Citation2',\n",
       "       'Notes', 'StateCode', 'Class', 'Country'],\n",
       "      dtype='object')"
      ]
     },
     "execution_count": 19,
     "metadata": {},
     "output_type": "execute_result"
    }
   ],
   "source": [
    "launches.columns"
   ]
  },
  {
   "cell_type": "code",
   "execution_count": null,
   "metadata": {},
   "outputs": [],
   "source": []
  },
  {
   "cell_type": "code",
   "execution_count": 46,
   "metadata": {},
   "outputs": [
    {
     "name": "stdout",
     "output_type": "stream",
     "text": [
      "<class 'pandas.core.frame.DataFrame'>\n",
      "Int64Index: 24099 entries, 0 to 24098\n",
      "Data columns (total 28 columns):\n",
      "LaunchTag     24099 non-null object\n",
      "JulianDate    24099 non-null float64\n",
      "Date          24099 non-null object\n",
      "Year          24099 non-null int64\n",
      "LVType        24099 non-null object\n",
      "Variant       1696 non-null object\n",
      "FlightId      18902 non-null object\n",
      "Flight        19876 non-null object\n",
      "Mission       10433 non-null object\n",
      "FlightCode    2236 non-null object\n",
      "Platform      2591 non-null object\n",
      "LaunchSite    24099 non-null object\n",
      "LaunchPad     13437 non-null object\n",
      "Apogee        24099 non-null float64\n",
      "Apoflag       11815 non-null object\n",
      "Range         677 non-null object\n",
      "RangeFlag     164 non-null object\n",
      "Dest          4100 non-null object\n",
      "Agency        24099 non-null object\n",
      "LaunchCode    24099 non-null object\n",
      "Group         8392 non-null object\n",
      "Category      24057 non-null object\n",
      "Citation1     24096 non-null object\n",
      "Citation2     8126 non-null object\n",
      "Notes         520 non-null object\n",
      "StateCode     24099 non-null object\n",
      "Class         24099 non-null object\n",
      "Country       24099 non-null object\n",
      "dtypes: float64(2), int64(1), object(25)\n",
      "memory usage: 5.3+ MB\n"
     ]
    },
    {
     "name": "stderr",
     "output_type": "stream",
     "text": [
      "C:\\ProgramData\\Anaconda3\\lib\\site-packages\\pandas\\core\\ops.py:1649: FutureWarning: elementwise comparison failed; returning scalar instead, but in the future will perform elementwise comparison\n",
      "  result = method(y)\n"
     ]
    }
   ],
   "source": []
  },
  {
   "cell_type": "code",
   "execution_count": 47,
   "metadata": {},
   "outputs": [
    {
     "name": "stdout",
     "output_type": "stream",
     "text": [
      "<class 'pandas.core.frame.DataFrame'>\n",
      "Int64Index: 24099 entries, 0 to 24098\n",
      "Data columns (total 28 columns):\n",
      "LaunchTag     24099 non-null object\n",
      "JulianDate    24099 non-null float64\n",
      "Date          24099 non-null object\n",
      "Year          24099 non-null int64\n",
      "LVType        24099 non-null object\n",
      "Variant       1696 non-null object\n",
      "FlightId      18902 non-null object\n",
      "Flight        19876 non-null object\n",
      "Mission       10433 non-null object\n",
      "FlightCode    2236 non-null object\n",
      "Platform      2591 non-null object\n",
      "LaunchSite    24099 non-null object\n",
      "LaunchPad     13437 non-null object\n",
      "Apogee        24099 non-null float64\n",
      "Apoflag       11815 non-null object\n",
      "Range         677 non-null object\n",
      "RangeFlag     164 non-null object\n",
      "Dest          4100 non-null object\n",
      "Agency        24099 non-null object\n",
      "LaunchCode    24099 non-null object\n",
      "Group         8392 non-null object\n",
      "Category      24057 non-null object\n",
      "Citation1     24096 non-null object\n",
      "Citation2     8126 non-null object\n",
      "Notes         520 non-null object\n",
      "StateCode     24099 non-null object\n",
      "Class         24099 non-null object\n",
      "Country       24099 non-null object\n",
      "dtypes: float64(2), int64(1), object(25)\n",
      "memory usage: 5.3+ MB\n"
     ]
    }
   ],
   "source": [
    "launches[launches != '-'].info()"
   ]
  },
  {
   "cell_type": "markdown",
   "metadata": {},
   "source": [
    "I can see that Apoflag and Rangeflag are the only columns with non null values. But printing out the head below shows most empty rows have a '-' to signify null."
   ]
  },
  {
   "cell_type": "code",
   "execution_count": null,
   "metadata": {},
   "outputs": [],
   "source": []
  },
  {
   "cell_type": "code",
   "execution_count": 21,
   "metadata": {},
   "outputs": [
    {
     "data": {
      "text/html": [
       "<div>\n",
       "<style scoped>\n",
       "    .dataframe tbody tr th:only-of-type {\n",
       "        vertical-align: middle;\n",
       "    }\n",
       "\n",
       "    .dataframe tbody tr th {\n",
       "        vertical-align: top;\n",
       "    }\n",
       "\n",
       "    .dataframe thead th {\n",
       "        text-align: right;\n",
       "    }\n",
       "</style>\n",
       "<table border=\"1\" class=\"dataframe\">\n",
       "  <thead>\n",
       "    <tr style=\"text-align: right;\">\n",
       "      <th></th>\n",
       "      <th>LaunchTag</th>\n",
       "      <th>JulianDate</th>\n",
       "      <th>Date</th>\n",
       "      <th>Year</th>\n",
       "      <th>LVType</th>\n",
       "      <th>Variant</th>\n",
       "      <th>FlightId</th>\n",
       "      <th>Flight</th>\n",
       "      <th>Mission</th>\n",
       "      <th>FlightCode</th>\n",
       "      <th>...</th>\n",
       "      <th>Agency</th>\n",
       "      <th>LaunchCode</th>\n",
       "      <th>Group</th>\n",
       "      <th>Category</th>\n",
       "      <th>Citation1</th>\n",
       "      <th>Citation2</th>\n",
       "      <th>Notes</th>\n",
       "      <th>StateCode</th>\n",
       "      <th>Class</th>\n",
       "      <th>Country</th>\n",
       "    </tr>\n",
       "  </thead>\n",
       "  <tbody>\n",
       "    <tr>\n",
       "      <th>0</th>\n",
       "      <td>1944-S28</td>\n",
       "      <td>2431241.5</td>\n",
       "      <td>1944 Jun</td>\n",
       "      <td>1944</td>\n",
       "      <td>V-2</td>\n",
       "      <td>-</td>\n",
       "      <td>-</td>\n",
       "      <td>Vertical test</td>\n",
       "      <td>-</td>\n",
       "      <td>-</td>\n",
       "      <td>...</td>\n",
       "      <td>WEHR</td>\n",
       "      <td>MS</td>\n",
       "      <td>-</td>\n",
       "      <td>Test</td>\n",
       "      <td>Neufeld/220</td>\n",
       "      <td>-</td>\n",
       "      <td>-</td>\n",
       "      <td>DR</td>\n",
       "      <td>D</td>\n",
       "      <td>Germany</td>\n",
       "    </tr>\n",
       "    <tr>\n",
       "      <th>1</th>\n",
       "      <td>1944-S313</td>\n",
       "      <td>2431241.5</td>\n",
       "      <td>1944 Jun</td>\n",
       "      <td>1944</td>\n",
       "      <td>V-2</td>\n",
       "      <td>-</td>\n",
       "      <td>-</td>\n",
       "      <td>Vertical test</td>\n",
       "      <td>-</td>\n",
       "      <td>-</td>\n",
       "      <td>...</td>\n",
       "      <td>WEHR</td>\n",
       "      <td>MS</td>\n",
       "      <td>-</td>\n",
       "      <td>Test</td>\n",
       "      <td>DeMaes</td>\n",
       "      <td>-</td>\n",
       "      <td>-</td>\n",
       "      <td>DR</td>\n",
       "      <td>D</td>\n",
       "      <td>Germany</td>\n",
       "    </tr>\n",
       "    <tr>\n",
       "      <th>2</th>\n",
       "      <td>1944-S314</td>\n",
       "      <td>2431241.5</td>\n",
       "      <td>1944 Jun</td>\n",
       "      <td>1944</td>\n",
       "      <td>V-2</td>\n",
       "      <td>-</td>\n",
       "      <td>-</td>\n",
       "      <td>Vertical test</td>\n",
       "      <td>-</td>\n",
       "      <td>-</td>\n",
       "      <td>...</td>\n",
       "      <td>WEHR</td>\n",
       "      <td>MS</td>\n",
       "      <td>-</td>\n",
       "      <td>Test</td>\n",
       "      <td>DeMaes</td>\n",
       "      <td>-</td>\n",
       "      <td>-</td>\n",
       "      <td>DR</td>\n",
       "      <td>D</td>\n",
       "      <td>Germany</td>\n",
       "    </tr>\n",
       "    <tr>\n",
       "      <th>3</th>\n",
       "      <td>1944-S315</td>\n",
       "      <td>2431241.5</td>\n",
       "      <td>1944 Jun</td>\n",
       "      <td>1944</td>\n",
       "      <td>V-2</td>\n",
       "      <td>-</td>\n",
       "      <td>-</td>\n",
       "      <td>Vertical test</td>\n",
       "      <td>-</td>\n",
       "      <td>-</td>\n",
       "      <td>...</td>\n",
       "      <td>WEHR</td>\n",
       "      <td>MS</td>\n",
       "      <td>-</td>\n",
       "      <td>Test</td>\n",
       "      <td>DeMaes</td>\n",
       "      <td>-</td>\n",
       "      <td>-</td>\n",
       "      <td>DR</td>\n",
       "      <td>D</td>\n",
       "      <td>Germany</td>\n",
       "    </tr>\n",
       "    <tr>\n",
       "      <th>4</th>\n",
       "      <td>1944-S316</td>\n",
       "      <td>2431241.5</td>\n",
       "      <td>1944 Jun</td>\n",
       "      <td>1944</td>\n",
       "      <td>V-2</td>\n",
       "      <td>-</td>\n",
       "      <td>-</td>\n",
       "      <td>Vertical test</td>\n",
       "      <td>-</td>\n",
       "      <td>-</td>\n",
       "      <td>...</td>\n",
       "      <td>WEHR</td>\n",
       "      <td>MS</td>\n",
       "      <td>-</td>\n",
       "      <td>Test</td>\n",
       "      <td>DeMaes</td>\n",
       "      <td>-</td>\n",
       "      <td>-</td>\n",
       "      <td>DR</td>\n",
       "      <td>D</td>\n",
       "      <td>Germany</td>\n",
       "    </tr>\n",
       "  </tbody>\n",
       "</table>\n",
       "<p>5 rows × 28 columns</p>\n",
       "</div>"
      ],
      "text/plain": [
       "   LaunchTag  JulianDate      Date  Year LVType Variant FlightId  \\\n",
       "0   1944-S28   2431241.5  1944 Jun  1944    V-2       -        -   \n",
       "1  1944-S313   2431241.5  1944 Jun  1944    V-2       -        -   \n",
       "2  1944-S314   2431241.5  1944 Jun  1944    V-2       -        -   \n",
       "3  1944-S315   2431241.5  1944 Jun  1944    V-2       -        -   \n",
       "4  1944-S316   2431241.5  1944 Jun  1944    V-2       -        -   \n",
       "\n",
       "          Flight Mission FlightCode  ... Agency LaunchCode Group  Category  \\\n",
       "0  Vertical test       -          -  ...   WEHR         MS     -      Test   \n",
       "1  Vertical test       -          -  ...   WEHR         MS     -      Test   \n",
       "2  Vertical test       -          -  ...   WEHR         MS     -      Test   \n",
       "3  Vertical test       -          -  ...   WEHR         MS     -      Test   \n",
       "4  Vertical test       -          -  ...   WEHR         MS     -      Test   \n",
       "\n",
       "     Citation1 Citation2 Notes StateCode Class  Country  \n",
       "0  Neufeld/220         -     -        DR     D  Germany  \n",
       "1       DeMaes         -     -        DR     D  Germany  \n",
       "2       DeMaes         -     -        DR     D  Germany  \n",
       "3       DeMaes         -     -        DR     D  Germany  \n",
       "4       DeMaes         -     -        DR     D  Germany  \n",
       "\n",
       "[5 rows x 28 columns]"
      ]
     },
     "execution_count": 21,
     "metadata": {},
     "output_type": "execute_result"
    }
   ],
   "source": [
    "launches.head()"
   ]
  },
  {
   "cell_type": "code",
   "execution_count": 48,
   "metadata": {},
   "outputs": [
    {
     "name": "stdout",
     "output_type": "stream",
     "text": [
      "<class 'pandas.core.frame.DataFrame'>\n",
      "Int64Index: 24099 entries, 0 to 24098\n",
      "Data columns (total 28 columns):\n",
      "LaunchTag     24099 non-null object\n",
      "JulianDate    24099 non-null float64\n",
      "Date          24099 non-null object\n",
      "Year          24099 non-null int64\n",
      "LVType        24099 non-null object\n",
      "Variant       1696 non-null object\n",
      "FlightId      18902 non-null object\n",
      "Flight        19876 non-null object\n",
      "Mission       10433 non-null object\n",
      "FlightCode    2236 non-null object\n",
      "Platform      2591 non-null object\n",
      "LaunchSite    24099 non-null object\n",
      "LaunchPad     13437 non-null object\n",
      "Apogee        24099 non-null float64\n",
      "Apoflag       11815 non-null object\n",
      "Range         677 non-null object\n",
      "RangeFlag     164 non-null object\n",
      "Dest          4100 non-null object\n",
      "Agency        24099 non-null object\n",
      "LaunchCode    24099 non-null object\n",
      "Group         8392 non-null object\n",
      "Category      24057 non-null object\n",
      "Citation1     24096 non-null object\n",
      "Citation2     8126 non-null object\n",
      "Notes         520 non-null object\n",
      "StateCode     24099 non-null object\n",
      "Class         24099 non-null object\n",
      "Country       24099 non-null object\n",
      "dtypes: float64(2), int64(1), object(25)\n",
      "memory usage: 5.3+ MB\n"
     ]
    }
   ],
   "source": [
    "launches[launches != '-'].info()"
   ]
  },
  {
   "cell_type": "markdown",
   "metadata": {},
   "source": [
    "This gives a better estimate of non null collumns to be used for counts."
   ]
  },
  {
   "cell_type": "code",
   "execution_count": 41,
   "metadata": {},
   "outputs": [],
   "source": [
    "Nasa = launches[launches.Agency == 'NASA'] # Creating Dataframe to identify trends in Nasa launches"
   ]
  },
  {
   "cell_type": "code",
   "execution_count": 56,
   "metadata": {
    "ExecuteTime": {
     "end_time": "2019-11-05T21:43:39.305488Z",
     "start_time": "2019-11-05T21:43:39.268980Z"
    }
   },
   "outputs": [
    {
     "data": {
      "text/html": [
       "<div>\n",
       "<style scoped>\n",
       "    .dataframe tbody tr th:only-of-type {\n",
       "        vertical-align: middle;\n",
       "    }\n",
       "\n",
       "    .dataframe tbody tr th {\n",
       "        vertical-align: top;\n",
       "    }\n",
       "\n",
       "    .dataframe thead th {\n",
       "        text-align: right;\n",
       "    }\n",
       "</style>\n",
       "<table border=\"1\" class=\"dataframe\">\n",
       "  <thead>\n",
       "    <tr style=\"text-align: right;\">\n",
       "      <th></th>\n",
       "      <th>LaunchTag</th>\n",
       "      <th>JulianDate</th>\n",
       "      <th>Date</th>\n",
       "      <th>Year</th>\n",
       "      <th>LVType</th>\n",
       "      <th>Variant</th>\n",
       "      <th>FlightId</th>\n",
       "      <th>Flight</th>\n",
       "      <th>Mission</th>\n",
       "      <th>FlightCode</th>\n",
       "      <th>...</th>\n",
       "      <th>Agency</th>\n",
       "      <th>LaunchCode</th>\n",
       "      <th>Group</th>\n",
       "      <th>Category</th>\n",
       "      <th>Citation1</th>\n",
       "      <th>Citation2</th>\n",
       "      <th>Notes</th>\n",
       "      <th>StateCode</th>\n",
       "      <th>Class</th>\n",
       "      <th>Country</th>\n",
       "    </tr>\n",
       "  </thead>\n",
       "  <tbody>\n",
       "    <tr>\n",
       "      <th>count</th>\n",
       "      <td>2908</td>\n",
       "      <td>2.908000e+03</td>\n",
       "      <td>2908</td>\n",
       "      <td>2908.000000</td>\n",
       "      <td>2908</td>\n",
       "      <td>2908</td>\n",
       "      <td>2908</td>\n",
       "      <td>2908</td>\n",
       "      <td>2908</td>\n",
       "      <td>2908</td>\n",
       "      <td>...</td>\n",
       "      <td>2908</td>\n",
       "      <td>2908</td>\n",
       "      <td>2908</td>\n",
       "      <td>2908</td>\n",
       "      <td>2908</td>\n",
       "      <td>2908</td>\n",
       "      <td>2908</td>\n",
       "      <td>2908</td>\n",
       "      <td>2908</td>\n",
       "      <td>2908</td>\n",
       "    </tr>\n",
       "    <tr>\n",
       "      <th>unique</th>\n",
       "      <td>2896</td>\n",
       "      <td>NaN</td>\n",
       "      <td>2880</td>\n",
       "      <td>NaN</td>\n",
       "      <td>136</td>\n",
       "      <td>11</td>\n",
       "      <td>2795</td>\n",
       "      <td>1880</td>\n",
       "      <td>431</td>\n",
       "      <td>5</td>\n",
       "      <td>...</td>\n",
       "      <td>1</td>\n",
       "      <td>11</td>\n",
       "      <td>624</td>\n",
       "      <td>172</td>\n",
       "      <td>308</td>\n",
       "      <td>314</td>\n",
       "      <td>23</td>\n",
       "      <td>1</td>\n",
       "      <td>1</td>\n",
       "      <td>1</td>\n",
       "    </tr>\n",
       "    <tr>\n",
       "      <th>top</th>\n",
       "      <td>1961-F01</td>\n",
       "      <td>NaN</td>\n",
       "      <td>1979 Nov  1</td>\n",
       "      <td>NaN</td>\n",
       "      <td>Nike Apache</td>\n",
       "      <td>-</td>\n",
       "      <td>-</td>\n",
       "      <td>-</td>\n",
       "      <td>-</td>\n",
       "      <td>-</td>\n",
       "      <td>...</td>\n",
       "      <td>NASA</td>\n",
       "      <td>SS</td>\n",
       "      <td>-</td>\n",
       "      <td>Aeronomy</td>\n",
       "      <td>WDCRF</td>\n",
       "      <td>-</td>\n",
       "      <td>-</td>\n",
       "      <td>US</td>\n",
       "      <td>C</td>\n",
       "      <td>United States</td>\n",
       "    </tr>\n",
       "    <tr>\n",
       "      <th>freq</th>\n",
       "      <td>2</td>\n",
       "      <td>NaN</td>\n",
       "      <td>3</td>\n",
       "      <td>NaN</td>\n",
       "      <td>494</td>\n",
       "      <td>2868</td>\n",
       "      <td>43</td>\n",
       "      <td>661</td>\n",
       "      <td>2376</td>\n",
       "      <td>2904</td>\n",
       "      <td>...</td>\n",
       "      <td>2908</td>\n",
       "      <td>2235</td>\n",
       "      <td>485</td>\n",
       "      <td>693</td>\n",
       "      <td>1355</td>\n",
       "      <td>2042</td>\n",
       "      <td>2863</td>\n",
       "      <td>2908</td>\n",
       "      <td>2908</td>\n",
       "      <td>2908</td>\n",
       "    </tr>\n",
       "    <tr>\n",
       "      <th>mean</th>\n",
       "      <td>NaN</td>\n",
       "      <td>2.442451e+06</td>\n",
       "      <td>NaN</td>\n",
       "      <td>1974.643398</td>\n",
       "      <td>NaN</td>\n",
       "      <td>NaN</td>\n",
       "      <td>NaN</td>\n",
       "      <td>NaN</td>\n",
       "      <td>NaN</td>\n",
       "      <td>NaN</td>\n",
       "      <td>...</td>\n",
       "      <td>NaN</td>\n",
       "      <td>NaN</td>\n",
       "      <td>NaN</td>\n",
       "      <td>NaN</td>\n",
       "      <td>NaN</td>\n",
       "      <td>NaN</td>\n",
       "      <td>NaN</td>\n",
       "      <td>NaN</td>\n",
       "      <td>NaN</td>\n",
       "      <td>NaN</td>\n",
       "    </tr>\n",
       "    <tr>\n",
       "      <th>std</th>\n",
       "      <td>NaN</td>\n",
       "      <td>4.213130e+03</td>\n",
       "      <td>NaN</td>\n",
       "      <td>11.561195</td>\n",
       "      <td>NaN</td>\n",
       "      <td>NaN</td>\n",
       "      <td>NaN</td>\n",
       "      <td>NaN</td>\n",
       "      <td>NaN</td>\n",
       "      <td>NaN</td>\n",
       "      <td>...</td>\n",
       "      <td>NaN</td>\n",
       "      <td>NaN</td>\n",
       "      <td>NaN</td>\n",
       "      <td>NaN</td>\n",
       "      <td>NaN</td>\n",
       "      <td>NaN</td>\n",
       "      <td>NaN</td>\n",
       "      <td>NaN</td>\n",
       "      <td>NaN</td>\n",
       "      <td>NaN</td>\n",
       "    </tr>\n",
       "    <tr>\n",
       "      <th>min</th>\n",
       "      <td>NaN</td>\n",
       "      <td>2.436568e+06</td>\n",
       "      <td>NaN</td>\n",
       "      <td>1959.000000</td>\n",
       "      <td>NaN</td>\n",
       "      <td>NaN</td>\n",
       "      <td>NaN</td>\n",
       "      <td>NaN</td>\n",
       "      <td>NaN</td>\n",
       "      <td>NaN</td>\n",
       "      <td>...</td>\n",
       "      <td>NaN</td>\n",
       "      <td>NaN</td>\n",
       "      <td>NaN</td>\n",
       "      <td>NaN</td>\n",
       "      <td>NaN</td>\n",
       "      <td>NaN</td>\n",
       "      <td>NaN</td>\n",
       "      <td>NaN</td>\n",
       "      <td>NaN</td>\n",
       "      <td>NaN</td>\n",
       "    </tr>\n",
       "    <tr>\n",
       "      <th>25%</th>\n",
       "      <td>NaN</td>\n",
       "      <td>2.439266e+06</td>\n",
       "      <td>NaN</td>\n",
       "      <td>1966.000000</td>\n",
       "      <td>NaN</td>\n",
       "      <td>NaN</td>\n",
       "      <td>NaN</td>\n",
       "      <td>NaN</td>\n",
       "      <td>NaN</td>\n",
       "      <td>NaN</td>\n",
       "      <td>...</td>\n",
       "      <td>NaN</td>\n",
       "      <td>NaN</td>\n",
       "      <td>NaN</td>\n",
       "      <td>NaN</td>\n",
       "      <td>NaN</td>\n",
       "      <td>NaN</td>\n",
       "      <td>NaN</td>\n",
       "      <td>NaN</td>\n",
       "      <td>NaN</td>\n",
       "      <td>NaN</td>\n",
       "    </tr>\n",
       "    <tr>\n",
       "      <th>50%</th>\n",
       "      <td>NaN</td>\n",
       "      <td>2.441026e+06</td>\n",
       "      <td>NaN</td>\n",
       "      <td>1971.000000</td>\n",
       "      <td>NaN</td>\n",
       "      <td>NaN</td>\n",
       "      <td>NaN</td>\n",
       "      <td>NaN</td>\n",
       "      <td>NaN</td>\n",
       "      <td>NaN</td>\n",
       "      <td>...</td>\n",
       "      <td>NaN</td>\n",
       "      <td>NaN</td>\n",
       "      <td>NaN</td>\n",
       "      <td>NaN</td>\n",
       "      <td>NaN</td>\n",
       "      <td>NaN</td>\n",
       "      <td>NaN</td>\n",
       "      <td>NaN</td>\n",
       "      <td>NaN</td>\n",
       "      <td>NaN</td>\n",
       "    </tr>\n",
       "    <tr>\n",
       "      <th>75%</th>\n",
       "      <td>NaN</td>\n",
       "      <td>2.444991e+06</td>\n",
       "      <td>NaN</td>\n",
       "      <td>1982.000000</td>\n",
       "      <td>NaN</td>\n",
       "      <td>NaN</td>\n",
       "      <td>NaN</td>\n",
       "      <td>NaN</td>\n",
       "      <td>NaN</td>\n",
       "      <td>NaN</td>\n",
       "      <td>...</td>\n",
       "      <td>NaN</td>\n",
       "      <td>NaN</td>\n",
       "      <td>NaN</td>\n",
       "      <td>NaN</td>\n",
       "      <td>NaN</td>\n",
       "      <td>NaN</td>\n",
       "      <td>NaN</td>\n",
       "      <td>NaN</td>\n",
       "      <td>NaN</td>\n",
       "      <td>NaN</td>\n",
       "    </tr>\n",
       "    <tr>\n",
       "      <th>max</th>\n",
       "      <td>NaN</td>\n",
       "      <td>2.456132e+06</td>\n",
       "      <td>NaN</td>\n",
       "      <td>2012.000000</td>\n",
       "      <td>NaN</td>\n",
       "      <td>NaN</td>\n",
       "      <td>NaN</td>\n",
       "      <td>NaN</td>\n",
       "      <td>NaN</td>\n",
       "      <td>NaN</td>\n",
       "      <td>...</td>\n",
       "      <td>NaN</td>\n",
       "      <td>NaN</td>\n",
       "      <td>NaN</td>\n",
       "      <td>NaN</td>\n",
       "      <td>NaN</td>\n",
       "      <td>NaN</td>\n",
       "      <td>NaN</td>\n",
       "      <td>NaN</td>\n",
       "      <td>NaN</td>\n",
       "      <td>NaN</td>\n",
       "    </tr>\n",
       "  </tbody>\n",
       "</table>\n",
       "<p>11 rows × 28 columns</p>\n",
       "</div>"
      ],
      "text/plain": [
       "       LaunchTag    JulianDate         Date         Year       LVType Variant  \\\n",
       "count       2908  2.908000e+03         2908  2908.000000         2908    2908   \n",
       "unique      2896           NaN         2880          NaN          136      11   \n",
       "top     1961-F01           NaN  1979 Nov  1          NaN  Nike Apache       -   \n",
       "freq           2           NaN            3          NaN          494    2868   \n",
       "mean         NaN  2.442451e+06          NaN  1974.643398          NaN     NaN   \n",
       "std          NaN  4.213130e+03          NaN    11.561195          NaN     NaN   \n",
       "min          NaN  2.436568e+06          NaN  1959.000000          NaN     NaN   \n",
       "25%          NaN  2.439266e+06          NaN  1966.000000          NaN     NaN   \n",
       "50%          NaN  2.441026e+06          NaN  1971.000000          NaN     NaN   \n",
       "75%          NaN  2.444991e+06          NaN  1982.000000          NaN     NaN   \n",
       "max          NaN  2.456132e+06          NaN  2012.000000          NaN     NaN   \n",
       "\n",
       "       FlightId Flight Mission FlightCode  ... Agency LaunchCode Group  \\\n",
       "count      2908   2908    2908       2908  ...   2908       2908  2908   \n",
       "unique     2795   1880     431          5  ...      1         11   624   \n",
       "top           -      -       -          -  ...   NASA         SS     -   \n",
       "freq         43    661    2376       2904  ...   2908       2235   485   \n",
       "mean        NaN    NaN     NaN        NaN  ...    NaN        NaN   NaN   \n",
       "std         NaN    NaN     NaN        NaN  ...    NaN        NaN   NaN   \n",
       "min         NaN    NaN     NaN        NaN  ...    NaN        NaN   NaN   \n",
       "25%         NaN    NaN     NaN        NaN  ...    NaN        NaN   NaN   \n",
       "50%         NaN    NaN     NaN        NaN  ...    NaN        NaN   NaN   \n",
       "75%         NaN    NaN     NaN        NaN  ...    NaN        NaN   NaN   \n",
       "max         NaN    NaN     NaN        NaN  ...    NaN        NaN   NaN   \n",
       "\n",
       "        Category Citation1 Citation2  Notes StateCode Class        Country  \n",
       "count       2908      2908      2908   2908      2908  2908           2908  \n",
       "unique       172       308       314     23         1     1              1  \n",
       "top     Aeronomy     WDCRF         -      -        US     C  United States  \n",
       "freq         693      1355      2042   2863      2908  2908           2908  \n",
       "mean         NaN       NaN       NaN    NaN       NaN   NaN            NaN  \n",
       "std          NaN       NaN       NaN    NaN       NaN   NaN            NaN  \n",
       "min          NaN       NaN       NaN    NaN       NaN   NaN            NaN  \n",
       "25%          NaN       NaN       NaN    NaN       NaN   NaN            NaN  \n",
       "50%          NaN       NaN       NaN    NaN       NaN   NaN            NaN  \n",
       "75%          NaN       NaN       NaN    NaN       NaN   NaN            NaN  \n",
       "max          NaN       NaN       NaN    NaN       NaN   NaN            NaN  \n",
       "\n",
       "[11 rows x 28 columns]"
      ]
     },
     "execution_count": 56,
     "metadata": {},
     "output_type": "execute_result"
    }
   ],
   "source": [
    "Nasa.describe(include = 'all')"
   ]
  },
  {
   "cell_type": "markdown",
   "metadata": {},
   "source": [
    "A lot of their launches seem to have happened in the first 30 years. I'll plot a histogram to check this further."
   ]
  },
  {
   "cell_type": "code",
   "execution_count": 70,
   "metadata": {},
   "outputs": [
    {
     "data": {
      "text/plain": [
       "(54,)"
      ]
     },
     "execution_count": 70,
     "metadata": {},
     "output_type": "execute_result"
    }
   ],
   "source": [
    "Nasa.Year.value_counts().shape\n"
   ]
  },
  {
   "cell_type": "code",
   "execution_count": 78,
   "metadata": {},
   "outputs": [
    {
     "data": {
      "text/plain": [
       "1965    186\n",
       "1966    169\n",
       "1968    167\n",
       "1964    157\n",
       "1967    153\n",
       "1971    137\n",
       "1970    135\n",
       "1969    129\n",
       "1963     98\n",
       "1972     81\n",
       "1973     81\n",
       "1975     75\n",
       "1962     75\n",
       "1961     75\n",
       "1974     68\n",
       "1990     63\n",
       "1983     62\n",
       "1976     60\n",
       "1978     60\n",
       "1960     59\n",
       "1977     57\n",
       "1979     54\n",
       "2003     50\n",
       "1982     47\n",
       "1980     44\n",
       "1985     43\n",
       "1992     43\n",
       "1981     43\n",
       "1994     38\n",
       "1984     38\n",
       "1997     37\n",
       "1987     33\n",
       "1991     31\n",
       "1988     31\n",
       "1993     30\n",
       "1986     25\n",
       "1989     24\n",
       "1995     20\n",
       "1959     16\n",
       "1999     13\n",
       "1996     11\n",
       "1998     11\n",
       "2001     11\n",
       "2002     11\n",
       "2000      8\n",
       "2006      8\n",
       "2005      8\n",
       "2007      8\n",
       "2009      7\n",
       "2008      6\n",
       "2010      5\n",
       "2011      4\n",
       "2004      2\n",
       "2012      1\n",
       "Name: Year, dtype: int64"
      ]
     },
     "execution_count": 78,
     "metadata": {},
     "output_type": "execute_result"
    }
   ],
   "source": [
    "Nasa.Year.value_counts()"
   ]
  },
  {
   "cell_type": "code",
   "execution_count": 77,
   "metadata": {},
   "outputs": [
    {
     "data": {
      "text/plain": [
       "(array([ 16.,  59.,  75.,  75.,  98., 157., 186., 169., 153., 167., 129.,\n",
       "        135., 137.,  81.,  81.,  68.,  75.,  60.,  57.,  60.,  54.,  44.,\n",
       "         43.,  47.,  62.,  38.,  43.,  25.,  33.,  31.,  24.,  63.,  31.,\n",
       "         43.,  30.,  38.,  20.,  11.,  37.,  11.,  13.,   8.,  11.,  11.,\n",
       "         50.,   2.,   8.,   8.,   8.,   6.,   7.,   5.,   4.,   1.]),\n",
       " array([1959.        , 1959.98148148, 1960.96296296, 1961.94444444,\n",
       "        1962.92592593, 1963.90740741, 1964.88888889, 1965.87037037,\n",
       "        1966.85185185, 1967.83333333, 1968.81481481, 1969.7962963 ,\n",
       "        1970.77777778, 1971.75925926, 1972.74074074, 1973.72222222,\n",
       "        1974.7037037 , 1975.68518519, 1976.66666667, 1977.64814815,\n",
       "        1978.62962963, 1979.61111111, 1980.59259259, 1981.57407407,\n",
       "        1982.55555556, 1983.53703704, 1984.51851852, 1985.5       ,\n",
       "        1986.48148148, 1987.46296296, 1988.44444444, 1989.42592593,\n",
       "        1990.40740741, 1991.38888889, 1992.37037037, 1993.35185185,\n",
       "        1994.33333333, 1995.31481481, 1996.2962963 , 1997.27777778,\n",
       "        1998.25925926, 1999.24074074, 2000.22222222, 2001.2037037 ,\n",
       "        2002.18518519, 2003.16666667, 2004.14814815, 2005.12962963,\n",
       "        2006.11111111, 2007.09259259, 2008.07407407, 2009.05555556,\n",
       "        2010.03703704, 2011.01851852, 2012.        ]),\n",
       " <a list of 54 Patch objects>)"
      ]
     },
     "execution_count": 77,
     "metadata": {},
     "output_type": "execute_result"
    },
    {
     "data": {
      "image/png": "[encoded data removed]",
      "text/plain": [
       "<Figure size 432x288 with 1 Axes>"
      ]
     },
     "metadata": {
      "needs_background": "light"
     },
     "output_type": "display_data"
    }
   ],
   "source": [
    "plt.hist(Nasa.Year, bins = 54)"
   ]
  },
  {
   "cell_type": "code",
   "execution_count": 24,
   "metadata": {
    "ExecuteTime": {
     "end_time": "2019-11-05T21:43:39.320372Z",
     "start_time": "2019-11-05T21:43:39.307706Z"
    }
   },
   "outputs": [
    {
     "data": {
      "text/plain": [
       "(5657, 28)"
      ]
     },
     "execution_count": 24,
     "metadata": {},
     "output_type": "execute_result"
    }
   ],
   "source": [
    "launches[launches.LaunchCode.isin(['OF', 'OS'])].shape"
   ]
  },
  {
   "cell_type": "code",
   "execution_count": 93,
   "metadata": {
    "ExecuteTime": {
     "end_time": "2019-11-05T21:43:39.328687Z",
     "start_time": "2019-11-05T21:43:39.322558Z"
    }
   },
   "outputs": [
    {
     "data": {
      "text/plain": [
       "(271,)"
      ]
     },
     "execution_count": 93,
     "metadata": {},
     "output_type": "execute_result"
    }
   ],
   "source": [
    "launches.Agency.unique().shape"
   ]
  },
  {
   "cell_type": "markdown",
   "metadata": {},
   "source": [
    "Getting quartile data"
   ]
  },
  {
   "cell_type": "code",
   "execution_count": 92,
   "metadata": {
    "ExecuteTime": {
     "end_time": "2019-11-05T21:43:39.346385Z",
     "start_time": "2019-11-05T21:43:39.332576Z"
    }
   },
   "outputs": [],
   "source": [
    "launches = launches.sort_values(by = 'JulianDate')"
   ]
  },
  {
   "cell_type": "code",
   "execution_count": 94,
   "metadata": {
    "ExecuteTime": {
     "end_time": "2019-11-05T21:43:39.404062Z",
     "start_time": "2019-11-05T21:43:39.349049Z"
    }
   },
   "outputs": [
    {
     "name": "stdout",
     "output_type": "stream",
     "text": [
      "2439348.17 2446915.9299999997 2442096.92\n"
     ]
    }
   ],
   "source": [
    "print(launches.describe().JulianDate['25%'], launches.describe().JulianDate['75%'], launches.describe().JulianDate['50%'])"
   ]
  },
  {
   "cell_type": "code",
   "execution_count": 95,
   "metadata": {
    "ExecuteTime": {
     "end_time": "2019-11-05T21:43:39.461144Z",
     "start_time": "2019-11-05T21:43:39.406103Z"
    }
   },
   "outputs": [],
   "source": [
    "launchesBottom25 = launches[launches.JulianDate<=(launches.describe().JulianDate['25%'])]\n",
    "launchesTop25 = launches[launches.JulianDate>(launches.describe().JulianDate['75%'])]\n",
    "launchesFailed = launches[launches.LaunchCode.isin(['OF', 'SF', 'MF', 'HF', 'TF', 'RF'])]\n",
    "launchesFailedBottom25 = launchesBottom25[launchesBottom25.LaunchCode.isin(['OF', 'SF', 'MF', 'HF', 'TF', 'RF'])]\n",
    "launchesFailedTop25 = launchesTop25[launchesTop25.LaunchCode.isin(['OF', 'SF', 'MF', 'HF', 'TF', 'RF'])]"
   ]
  },
  {
   "cell_type": "code",
   "execution_count": 96,
   "metadata": {
    "ExecuteTime": {
     "end_time": "2019-11-05T21:43:39.467401Z",
     "start_time": "2019-11-05T21:43:39.463106Z"
    }
   },
   "outputs": [
    {
     "name": "stdout",
     "output_type": "stream",
     "text": [
      "(821, 28) (331, 28) (205, 28)\n"
     ]
    }
   ],
   "source": [
    "print(launchesFailed.shape, launchesFailedBottom25.shape, launchesFailedTop25.shape)"
   ]
  },
  {
   "cell_type": "code",
   "execution_count": 97,
   "metadata": {
    "ExecuteTime": {
     "end_time": "2019-11-05T21:43:39.509950Z",
     "start_time": "2019-11-05T21:43:39.470263Z"
    }
   },
   "outputs": [
    {
     "data": {
      "text/html": [
       "<div>\n",
       "<style scoped>\n",
       "    .dataframe tbody tr th:only-of-type {\n",
       "        vertical-align: middle;\n",
       "    }\n",
       "\n",
       "    .dataframe tbody tr th {\n",
       "        vertical-align: top;\n",
       "    }\n",
       "\n",
       "    .dataframe thead th {\n",
       "        text-align: right;\n",
       "    }\n",
       "</style>\n",
       "<table border=\"1\" class=\"dataframe\">\n",
       "  <thead>\n",
       "    <tr style=\"text-align: right;\">\n",
       "      <th></th>\n",
       "      <th>LaunchTag</th>\n",
       "      <th>JulianDate</th>\n",
       "      <th>Date</th>\n",
       "      <th>Year</th>\n",
       "      <th>LVType</th>\n",
       "      <th>Variant</th>\n",
       "      <th>FlightId</th>\n",
       "      <th>Flight</th>\n",
       "      <th>Mission</th>\n",
       "      <th>FlightCode</th>\n",
       "      <th>...</th>\n",
       "      <th>Agency</th>\n",
       "      <th>LaunchCode</th>\n",
       "      <th>Group</th>\n",
       "      <th>Category</th>\n",
       "      <th>Citation1</th>\n",
       "      <th>Citation2</th>\n",
       "      <th>Notes</th>\n",
       "      <th>StateCode</th>\n",
       "      <th>Class</th>\n",
       "      <th>Country</th>\n",
       "    </tr>\n",
       "  </thead>\n",
       "  <tbody>\n",
       "    <tr>\n",
       "      <th>0</th>\n",
       "      <td>1944-S28</td>\n",
       "      <td>2431241.50</td>\n",
       "      <td>1944 Jun</td>\n",
       "      <td>1944</td>\n",
       "      <td>V-2</td>\n",
       "      <td>-</td>\n",
       "      <td>-</td>\n",
       "      <td>Vertical test</td>\n",
       "      <td>-</td>\n",
       "      <td>-</td>\n",
       "      <td>...</td>\n",
       "      <td>WEHR</td>\n",
       "      <td>MS</td>\n",
       "      <td>-</td>\n",
       "      <td>Test</td>\n",
       "      <td>Neufeld/220</td>\n",
       "      <td>-</td>\n",
       "      <td>-</td>\n",
       "      <td>DR</td>\n",
       "      <td>D</td>\n",
       "      <td>Germany</td>\n",
       "    </tr>\n",
       "    <tr>\n",
       "      <th>1</th>\n",
       "      <td>1944-S313</td>\n",
       "      <td>2431241.50</td>\n",
       "      <td>1944 Jun</td>\n",
       "      <td>1944</td>\n",
       "      <td>V-2</td>\n",
       "      <td>-</td>\n",
       "      <td>-</td>\n",
       "      <td>Vertical test</td>\n",
       "      <td>-</td>\n",
       "      <td>-</td>\n",
       "      <td>...</td>\n",
       "      <td>WEHR</td>\n",
       "      <td>MS</td>\n",
       "      <td>-</td>\n",
       "      <td>Test</td>\n",
       "      <td>DeMaes</td>\n",
       "      <td>-</td>\n",
       "      <td>-</td>\n",
       "      <td>DR</td>\n",
       "      <td>D</td>\n",
       "      <td>Germany</td>\n",
       "    </tr>\n",
       "    <tr>\n",
       "      <th>2</th>\n",
       "      <td>1944-S314</td>\n",
       "      <td>2431241.50</td>\n",
       "      <td>1944 Jun</td>\n",
       "      <td>1944</td>\n",
       "      <td>V-2</td>\n",
       "      <td>-</td>\n",
       "      <td>-</td>\n",
       "      <td>Vertical test</td>\n",
       "      <td>-</td>\n",
       "      <td>-</td>\n",
       "      <td>...</td>\n",
       "      <td>WEHR</td>\n",
       "      <td>MS</td>\n",
       "      <td>-</td>\n",
       "      <td>Test</td>\n",
       "      <td>DeMaes</td>\n",
       "      <td>-</td>\n",
       "      <td>-</td>\n",
       "      <td>DR</td>\n",
       "      <td>D</td>\n",
       "      <td>Germany</td>\n",
       "    </tr>\n",
       "    <tr>\n",
       "      <th>3</th>\n",
       "      <td>1944-S315</td>\n",
       "      <td>2431241.50</td>\n",
       "      <td>1944 Jun</td>\n",
       "      <td>1944</td>\n",
       "      <td>V-2</td>\n",
       "      <td>-</td>\n",
       "      <td>-</td>\n",
       "      <td>Vertical test</td>\n",
       "      <td>-</td>\n",
       "      <td>-</td>\n",
       "      <td>...</td>\n",
       "      <td>WEHR</td>\n",
       "      <td>MS</td>\n",
       "      <td>-</td>\n",
       "      <td>Test</td>\n",
       "      <td>DeMaes</td>\n",
       "      <td>-</td>\n",
       "      <td>-</td>\n",
       "      <td>DR</td>\n",
       "      <td>D</td>\n",
       "      <td>Germany</td>\n",
       "    </tr>\n",
       "    <tr>\n",
       "      <th>4</th>\n",
       "      <td>1944-S316</td>\n",
       "      <td>2431241.50</td>\n",
       "      <td>1944 Jun</td>\n",
       "      <td>1944</td>\n",
       "      <td>V-2</td>\n",
       "      <td>-</td>\n",
       "      <td>-</td>\n",
       "      <td>Vertical test</td>\n",
       "      <td>-</td>\n",
       "      <td>-</td>\n",
       "      <td>...</td>\n",
       "      <td>WEHR</td>\n",
       "      <td>MS</td>\n",
       "      <td>-</td>\n",
       "      <td>Test</td>\n",
       "      <td>DeMaes</td>\n",
       "      <td>-</td>\n",
       "      <td>-</td>\n",
       "      <td>DR</td>\n",
       "      <td>D</td>\n",
       "      <td>Germany</td>\n",
       "    </tr>\n",
       "    <tr>\n",
       "      <th>5</th>\n",
       "      <td>1944-S317</td>\n",
       "      <td>2431261.50</td>\n",
       "      <td>1944 Jun 20?</td>\n",
       "      <td>1944</td>\n",
       "      <td>V-2</td>\n",
       "      <td>-</td>\n",
       "      <td>-</td>\n",
       "      <td>Vertical test</td>\n",
       "      <td>-</td>\n",
       "      <td>-</td>\n",
       "      <td>...</td>\n",
       "      <td>WEHR</td>\n",
       "      <td>MS</td>\n",
       "      <td>-</td>\n",
       "      <td>Test</td>\n",
       "      <td>DeMaes</td>\n",
       "      <td>-</td>\n",
       "      <td>-</td>\n",
       "      <td>DR</td>\n",
       "      <td>D</td>\n",
       "      <td>Germany</td>\n",
       "    </tr>\n",
       "    <tr>\n",
       "      <th>6</th>\n",
       "      <td>1944-S95</td>\n",
       "      <td>2431347.50</td>\n",
       "      <td>1944 Sep 14</td>\n",
       "      <td>1944</td>\n",
       "      <td>V-2</td>\n",
       "      <td>-</td>\n",
       "      <td>-</td>\n",
       "      <td>Vertical test</td>\n",
       "      <td>-</td>\n",
       "      <td>-</td>\n",
       "      <td>...</td>\n",
       "      <td>WEHR</td>\n",
       "      <td>MS</td>\n",
       "      <td>-</td>\n",
       "      <td>Test</td>\n",
       "      <td>VonBraun58-8</td>\n",
       "      <td>-</td>\n",
       "      <td>-</td>\n",
       "      <td>DR</td>\n",
       "      <td>D</td>\n",
       "      <td>Germany</td>\n",
       "    </tr>\n",
       "    <tr>\n",
       "      <th>7</th>\n",
       "      <td>1944-S279</td>\n",
       "      <td>2431432.21</td>\n",
       "      <td>1944 Dec  7 1700</td>\n",
       "      <td>1944</td>\n",
       "      <td>V-2</td>\n",
       "      <td>-</td>\n",
       "      <td>19874</td>\n",
       "      <td>Ma333</td>\n",
       "      <td>-</td>\n",
       "      <td>-</td>\n",
       "      <td>...</td>\n",
       "      <td>WEHR</td>\n",
       "      <td>MS</td>\n",
       "      <td>-</td>\n",
       "      <td>Test</td>\n",
       "      <td>FE175</td>\n",
       "      <td>-</td>\n",
       "      <td>-</td>\n",
       "      <td>DR</td>\n",
       "      <td>D</td>\n",
       "      <td>Germany</td>\n",
       "    </tr>\n",
       "    <tr>\n",
       "      <th>8</th>\n",
       "      <td>1944-S284</td>\n",
       "      <td>2431434.22</td>\n",
       "      <td>1944 Dec  9 1710</td>\n",
       "      <td>1944</td>\n",
       "      <td>V-2</td>\n",
       "      <td>-</td>\n",
       "      <td>19020</td>\n",
       "      <td>-</td>\n",
       "      <td>-</td>\n",
       "      <td>-</td>\n",
       "      <td>...</td>\n",
       "      <td>WEHR</td>\n",
       "      <td>MS</td>\n",
       "      <td>-</td>\n",
       "      <td>Test</td>\n",
       "      <td>FE175</td>\n",
       "      <td>-</td>\n",
       "      <td>-</td>\n",
       "      <td>DR</td>\n",
       "      <td>D</td>\n",
       "      <td>Germany</td>\n",
       "    </tr>\n",
       "    <tr>\n",
       "      <th>9</th>\n",
       "      <td>1946-S01</td>\n",
       "      <td>2431951.39</td>\n",
       "      <td>1946 May 10 2115</td>\n",
       "      <td>1946</td>\n",
       "      <td>V-2</td>\n",
       "      <td>-</td>\n",
       "      <td>3</td>\n",
       "      <td>-</td>\n",
       "      <td>-</td>\n",
       "      <td>-</td>\n",
       "      <td>...</td>\n",
       "      <td>WSPG</td>\n",
       "      <td>SS</td>\n",
       "      <td>APL/</td>\n",
       "      <td>CR</td>\n",
       "      <td>Hermes-Rpt</td>\n",
       "      <td>-</td>\n",
       "      <td>-</td>\n",
       "      <td>US</td>\n",
       "      <td>D</td>\n",
       "      <td>United States</td>\n",
       "    </tr>\n",
       "    <tr>\n",
       "      <th>10</th>\n",
       "      <td>1946-S02</td>\n",
       "      <td>2431970.38</td>\n",
       "      <td>1946 May 29 2112</td>\n",
       "      <td>1946</td>\n",
       "      <td>V-2</td>\n",
       "      <td>-</td>\n",
       "      <td>4</td>\n",
       "      <td>-</td>\n",
       "      <td>-</td>\n",
       "      <td>-</td>\n",
       "      <td>...</td>\n",
       "      <td>GEMTS</td>\n",
       "      <td>SS</td>\n",
       "      <td>APL/</td>\n",
       "      <td>CR</td>\n",
       "      <td>Hermes-Rpt</td>\n",
       "      <td>-</td>\n",
       "      <td>-</td>\n",
       "      <td>US</td>\n",
       "      <td>B</td>\n",
       "      <td>United States</td>\n",
       "    </tr>\n",
       "    <tr>\n",
       "      <th>11</th>\n",
       "      <td>1946-S03</td>\n",
       "      <td>2431985.49</td>\n",
       "      <td>1946 Jun 13 2340</td>\n",
       "      <td>1946</td>\n",
       "      <td>V-2</td>\n",
       "      <td>-</td>\n",
       "      <td>5</td>\n",
       "      <td>UVS/Ionos prop.</td>\n",
       "      <td>-</td>\n",
       "      <td>-</td>\n",
       "      <td>...</td>\n",
       "      <td>GEMTS</td>\n",
       "      <td>SS</td>\n",
       "      <td>NRL/Seddon?</td>\n",
       "      <td>Solar UV/Ionos</td>\n",
       "      <td>Hermes-Rpt</td>\n",
       "      <td>-</td>\n",
       "      <td>-</td>\n",
       "      <td>US</td>\n",
       "      <td>B</td>\n",
       "      <td>United States</td>\n",
       "    </tr>\n",
       "    <tr>\n",
       "      <th>12</th>\n",
       "      <td>1946-S04</td>\n",
       "      <td>2432000.31</td>\n",
       "      <td>1946 Jun 28 1925</td>\n",
       "      <td>1946</td>\n",
       "      <td>V-2</td>\n",
       "      <td>-</td>\n",
       "      <td>6</td>\n",
       "      <td>UVS/Ionos prop.</td>\n",
       "      <td>-</td>\n",
       "      <td>-</td>\n",
       "      <td>...</td>\n",
       "      <td>NRL</td>\n",
       "      <td>SS</td>\n",
       "      <td>NRL/Seddon,Tousey</td>\n",
       "      <td>Solar UV</td>\n",
       "      <td>Hermes-Rpt</td>\n",
       "      <td>PhysRev70,223</td>\n",
       "      <td>-</td>\n",
       "      <td>US</td>\n",
       "      <td>D</td>\n",
       "      <td>United States</td>\n",
       "    </tr>\n",
       "    <tr>\n",
       "      <th>13</th>\n",
       "      <td>1946-S05</td>\n",
       "      <td>2432011.31</td>\n",
       "      <td>1946 Jul  9 1925</td>\n",
       "      <td>1946</td>\n",
       "      <td>V-2</td>\n",
       "      <td>-</td>\n",
       "      <td>7</td>\n",
       "      <td>-</td>\n",
       "      <td>-</td>\n",
       "      <td>-</td>\n",
       "      <td>...</td>\n",
       "      <td>GEMTS</td>\n",
       "      <td>SS</td>\n",
       "      <td>NRL/Seddon</td>\n",
       "      <td>CR/Ionos</td>\n",
       "      <td>Hermes-Rpt</td>\n",
       "      <td>-</td>\n",
       "      <td>-</td>\n",
       "      <td>US</td>\n",
       "      <td>B</td>\n",
       "      <td>United States</td>\n",
       "    </tr>\n",
       "    <tr>\n",
       "      <th>14</th>\n",
       "      <td>1946-S06</td>\n",
       "      <td>2432032.32</td>\n",
       "      <td>1946 Jul 30 1936</td>\n",
       "      <td>1946</td>\n",
       "      <td>V-2</td>\n",
       "      <td>-</td>\n",
       "      <td>9</td>\n",
       "      <td>-</td>\n",
       "      <td>-</td>\n",
       "      <td>-</td>\n",
       "      <td>...</td>\n",
       "      <td>APL</td>\n",
       "      <td>SS</td>\n",
       "      <td>NRL/Seddon</td>\n",
       "      <td>CR/Ionos</td>\n",
       "      <td>Hermes-Rpt</td>\n",
       "      <td>-</td>\n",
       "      <td>-</td>\n",
       "      <td>US</td>\n",
       "      <td>B</td>\n",
       "      <td>United States</td>\n",
       "    </tr>\n",
       "    <tr>\n",
       "      <th>15</th>\n",
       "      <td>1946-S07</td>\n",
       "      <td>2432104.25</td>\n",
       "      <td>1946 Oct 10 1802</td>\n",
       "      <td>1946</td>\n",
       "      <td>V-2</td>\n",
       "      <td>-</td>\n",
       "      <td>12</td>\n",
       "      <td>-</td>\n",
       "      <td>-</td>\n",
       "      <td>-</td>\n",
       "      <td>...</td>\n",
       "      <td>NRL</td>\n",
       "      <td>SS</td>\n",
       "      <td>NRL/Seddon,Tousey</td>\n",
       "      <td>Solar UV</td>\n",
       "      <td>Hermes-Rpt</td>\n",
       "      <td>PhysRev70,776</td>\n",
       "      <td>-</td>\n",
       "      <td>US</td>\n",
       "      <td>D</td>\n",
       "      <td>United States</td>\n",
       "    </tr>\n",
       "    <tr>\n",
       "      <th>16</th>\n",
       "      <td>1946-S08</td>\n",
       "      <td>2432118.30</td>\n",
       "      <td>1946 Oct 24 1915</td>\n",
       "      <td>1946</td>\n",
       "      <td>V-2</td>\n",
       "      <td>-</td>\n",
       "      <td>13</td>\n",
       "      <td>-</td>\n",
       "      <td>-</td>\n",
       "      <td>-</td>\n",
       "      <td>...</td>\n",
       "      <td>APL</td>\n",
       "      <td>SS</td>\n",
       "      <td>APL/Hopfield?</td>\n",
       "      <td>Solar UV/CR</td>\n",
       "      <td>Hermes-Rpt</td>\n",
       "      <td>PhysRev73,877</td>\n",
       "      <td>-</td>\n",
       "      <td>US</td>\n",
       "      <td>B</td>\n",
       "      <td>United States</td>\n",
       "    </tr>\n",
       "    <tr>\n",
       "      <th>17</th>\n",
       "      <td>1946-S10</td>\n",
       "      <td>2432146.20</td>\n",
       "      <td>1946 Nov 21 1655</td>\n",
       "      <td>1946</td>\n",
       "      <td>V-2</td>\n",
       "      <td>-</td>\n",
       "      <td>15</td>\n",
       "      <td>UM Aeron</td>\n",
       "      <td>-</td>\n",
       "      <td>-</td>\n",
       "      <td>...</td>\n",
       "      <td>ARDC</td>\n",
       "      <td>SS</td>\n",
       "      <td>UMI/AFCRL/Schultz</td>\n",
       "      <td>Aeron/Ionos</td>\n",
       "      <td>Hermes-Rpt</td>\n",
       "      <td>-</td>\n",
       "      <td>-</td>\n",
       "      <td>US</td>\n",
       "      <td>D</td>\n",
       "      <td>United States</td>\n",
       "    </tr>\n",
       "    <tr>\n",
       "      <th>18</th>\n",
       "      <td>1946-S11</td>\n",
       "      <td>2432160.34</td>\n",
       "      <td>1946 Dec  5 2008</td>\n",
       "      <td>1946</td>\n",
       "      <td>V-2</td>\n",
       "      <td>-</td>\n",
       "      <td>16</td>\n",
       "      <td>-</td>\n",
       "      <td>-</td>\n",
       "      <td>-</td>\n",
       "      <td>...</td>\n",
       "      <td>NRL</td>\n",
       "      <td>SS</td>\n",
       "      <td>NRL/</td>\n",
       "      <td>Solar UV</td>\n",
       "      <td>Hermes-Rpt</td>\n",
       "      <td>-</td>\n",
       "      <td>-</td>\n",
       "      <td>US</td>\n",
       "      <td>D</td>\n",
       "      <td>United States</td>\n",
       "    </tr>\n",
       "    <tr>\n",
       "      <th>19</th>\n",
       "      <td>1946-S12</td>\n",
       "      <td>2432172.72</td>\n",
       "      <td>1946 Dec 18 0512:49</td>\n",
       "      <td>1946</td>\n",
       "      <td>V-2</td>\n",
       "      <td>-</td>\n",
       "      <td>17</td>\n",
       "      <td>CR/Grenades</td>\n",
       "      <td>-</td>\n",
       "      <td>-</td>\n",
       "      <td>...</td>\n",
       "      <td>APL</td>\n",
       "      <td>SS</td>\n",
       "      <td>APL/USAF/Zwicky</td>\n",
       "      <td>CR/Meteor test</td>\n",
       "      <td>PASP59,32</td>\n",
       "      <td>Hermes-Rpt</td>\n",
       "      <td>-</td>\n",
       "      <td>US</td>\n",
       "      <td>B</td>\n",
       "      <td>United States</td>\n",
       "    </tr>\n",
       "  </tbody>\n",
       "</table>\n",
       "<p>20 rows × 28 columns</p>\n",
       "</div>"
      ],
      "text/plain": [
       "    LaunchTag  JulianDate                 Date  Year LVType Variant FlightId  \\\n",
       "0    1944-S28  2431241.50             1944 Jun  1944    V-2       -        -   \n",
       "1   1944-S313  2431241.50             1944 Jun  1944    V-2       -        -   \n",
       "2   1944-S314  2431241.50             1944 Jun  1944    V-2       -        -   \n",
       "3   1944-S315  2431241.50             1944 Jun  1944    V-2       -        -   \n",
       "4   1944-S316  2431241.50             1944 Jun  1944    V-2       -        -   \n",
       "5   1944-S317  2431261.50         1944 Jun 20?  1944    V-2       -        -   \n",
       "6    1944-S95  2431347.50          1944 Sep 14  1944    V-2       -        -   \n",
       "7   1944-S279  2431432.21     1944 Dec  7 1700  1944    V-2       -    19874   \n",
       "8   1944-S284  2431434.22     1944 Dec  9 1710  1944    V-2       -    19020   \n",
       "9    1946-S01  2431951.39     1946 May 10 2115  1946    V-2       -        3   \n",
       "10   1946-S02  2431970.38     1946 May 29 2112  1946    V-2       -        4   \n",
       "11   1946-S03  2431985.49     1946 Jun 13 2340  1946    V-2       -        5   \n",
       "12   1946-S04  2432000.31     1946 Jun 28 1925  1946    V-2       -        6   \n",
       "13   1946-S05  2432011.31     1946 Jul  9 1925  1946    V-2       -        7   \n",
       "14   1946-S06  2432032.32     1946 Jul 30 1936  1946    V-2       -        9   \n",
       "15   1946-S07  2432104.25     1946 Oct 10 1802  1946    V-2       -       12   \n",
       "16   1946-S08  2432118.30     1946 Oct 24 1915  1946    V-2       -       13   \n",
       "17   1946-S10  2432146.20     1946 Nov 21 1655  1946    V-2       -       15   \n",
       "18   1946-S11  2432160.34     1946 Dec  5 2008  1946    V-2       -       16   \n",
       "19   1946-S12  2432172.72  1946 Dec 18 0512:49  1946    V-2       -       17   \n",
       "\n",
       "             Flight Mission FlightCode  ... Agency LaunchCode  \\\n",
       "0     Vertical test       -          -  ...   WEHR         MS   \n",
       "1     Vertical test       -          -  ...   WEHR         MS   \n",
       "2     Vertical test       -          -  ...   WEHR         MS   \n",
       "3     Vertical test       -          -  ...   WEHR         MS   \n",
       "4     Vertical test       -          -  ...   WEHR         MS   \n",
       "5     Vertical test       -          -  ...   WEHR         MS   \n",
       "6     Vertical test       -          -  ...   WEHR         MS   \n",
       "7             Ma333       -          -  ...   WEHR         MS   \n",
       "8                 -       -          -  ...   WEHR         MS   \n",
       "9                 -       -          -  ...   WSPG         SS   \n",
       "10                -       -          -  ...  GEMTS         SS   \n",
       "11  UVS/Ionos prop.       -          -  ...  GEMTS         SS   \n",
       "12  UVS/Ionos prop.       -          -  ...    NRL         SS   \n",
       "13                -       -          -  ...  GEMTS         SS   \n",
       "14                -       -          -  ...    APL         SS   \n",
       "15                -       -          -  ...    NRL         SS   \n",
       "16                -       -          -  ...    APL         SS   \n",
       "17         UM Aeron       -          -  ...   ARDC         SS   \n",
       "18                -       -          -  ...    NRL         SS   \n",
       "19      CR/Grenades       -          -  ...    APL         SS   \n",
       "\n",
       "                Group        Category     Citation1      Citation2 Notes  \\\n",
       "0                   -            Test   Neufeld/220              -     -   \n",
       "1                   -            Test        DeMaes              -     -   \n",
       "2                   -            Test        DeMaes              -     -   \n",
       "3                   -            Test        DeMaes              -     -   \n",
       "4                   -            Test        DeMaes              -     -   \n",
       "5                   -            Test        DeMaes              -     -   \n",
       "6                   -            Test  VonBraun58-8              -     -   \n",
       "7                   -            Test         FE175              -     -   \n",
       "8                   -            Test         FE175              -     -   \n",
       "9                APL/              CR    Hermes-Rpt              -     -   \n",
       "10               APL/              CR    Hermes-Rpt              -     -   \n",
       "11        NRL/Seddon?  Solar UV/Ionos    Hermes-Rpt              -     -   \n",
       "12  NRL/Seddon,Tousey        Solar UV    Hermes-Rpt  PhysRev70,223     -   \n",
       "13         NRL/Seddon        CR/Ionos    Hermes-Rpt              -     -   \n",
       "14         NRL/Seddon        CR/Ionos    Hermes-Rpt              -     -   \n",
       "15  NRL/Seddon,Tousey        Solar UV    Hermes-Rpt  PhysRev70,776     -   \n",
       "16      APL/Hopfield?     Solar UV/CR    Hermes-Rpt  PhysRev73,877     -   \n",
       "17  UMI/AFCRL/Schultz     Aeron/Ionos    Hermes-Rpt              -     -   \n",
       "18               NRL/        Solar UV    Hermes-Rpt              -     -   \n",
       "19    APL/USAF/Zwicky  CR/Meteor test     PASP59,32     Hermes-Rpt     -   \n",
       "\n",
       "   StateCode Class        Country  \n",
       "0         DR     D        Germany  \n",
       "1         DR     D        Germany  \n",
       "2         DR     D        Germany  \n",
       "3         DR     D        Germany  \n",
       "4         DR     D        Germany  \n",
       "5         DR     D        Germany  \n",
       "6         DR     D        Germany  \n",
       "7         DR     D        Germany  \n",
       "8         DR     D        Germany  \n",
       "9         US     D  United States  \n",
       "10        US     B  United States  \n",
       "11        US     B  United States  \n",
       "12        US     D  United States  \n",
       "13        US     B  United States  \n",
       "14        US     B  United States  \n",
       "15        US     D  United States  \n",
       "16        US     B  United States  \n",
       "17        US     D  United States  \n",
       "18        US     D  United States  \n",
       "19        US     B  United States  \n",
       "\n",
       "[20 rows x 28 columns]"
      ]
     },
     "execution_count": 97,
     "metadata": {},
     "output_type": "execute_result"
    }
   ],
   "source": [
    "launches.head(20)"
   ]
  },
  {
   "cell_type": "code",
   "execution_count": 13,
   "metadata": {
    "ExecuteTime": {
     "end_time": "2019-11-05T21:43:39.519184Z",
     "start_time": "2019-11-05T21:43:39.512060Z"
    }
   },
   "outputs": [
    {
     "data": {
      "text/plain": [
       "array(['D', 'B', 'A', 'C'], dtype=object)"
      ]
     },
     "execution_count": 13,
     "metadata": {},
     "output_type": "execute_result"
    }
   ],
   "source": [
    "launches.Class.unique()"
   ]
  },
  {
   "cell_type": "code",
   "execution_count": 14,
   "metadata": {
    "ExecuteTime": {
     "end_time": "2019-11-05T21:43:39.552703Z",
     "start_time": "2019-11-05T21:43:39.521545Z"
    }
   },
   "outputs": [
    {
     "name": "stdout",
     "output_type": "stream",
     "text": [
      "B : 1507 D : 15331 A : 73 C : 7188\n"
     ]
    }
   ],
   "source": [
    "print('B :',launches[launches.Class == 'B'].Class.shape[0], 'D :',launches[launches.Class == 'D'].Class.shape[0], 'A :',launches[launches.Class == 'A'].Class.shape[0],'C :',launches[launches.Class == 'C'].Class.shape[0],)"
   ]
  },
  {
   "cell_type": "code",
   "execution_count": 15,
   "metadata": {
    "ExecuteTime": {
     "end_time": "2019-11-05T21:43:39.569166Z",
     "start_time": "2019-11-05T21:43:39.554981Z"
    }
   },
   "outputs": [
    {
     "data": {
      "text/plain": [
       "count    1507.000000\n",
       "mean     1999.495687\n",
       "std        16.254997\n",
       "min      1946.000000\n",
       "25%      1993.000000\n",
       "50%      2003.000000\n",
       "75%      2012.000000\n",
       "max      2019.000000\n",
       "Name: Year, dtype: float64"
      ]
     },
     "execution_count": 15,
     "metadata": {},
     "output_type": "execute_result"
    }
   ],
   "source": [
    "launches[launches.Class == 'B'].Year.describe()"
   ]
  },
  {
   "cell_type": "code",
   "execution_count": 16,
   "metadata": {
    "ExecuteTime": {
     "end_time": "2019-11-05T21:43:39.580842Z",
     "start_time": "2019-11-05T21:43:39.571109Z"
    }
   },
   "outputs": [
    {
     "data": {
      "text/plain": [
       "count    24099.000000\n",
       "mean      1977.951824\n",
       "std         15.925845\n",
       "min       1944.000000\n",
       "25%       1966.000000\n",
       "50%       1974.000000\n",
       "75%       1987.000000\n",
       "max       2019.000000\n",
       "Name: Year, dtype: float64"
      ]
     },
     "execution_count": 16,
     "metadata": {},
     "output_type": "execute_result"
    }
   ],
   "source": [
    "launches.Year.describe()"
   ]
  },
  {
   "cell_type": "code",
   "execution_count": 17,
   "metadata": {
    "ExecuteTime": {
     "end_time": "2019-11-05T21:43:39.589231Z",
     "start_time": "2019-11-05T21:43:39.583094Z"
    }
   },
   "outputs": [
    {
     "data": {
      "text/plain": [
       "array(['Germany', 'United States', 'Russia', 'France', 'Australia',\n",
       "       'United Kingdom', 'Canada', 'Japan', 'China', 'Italy', 'Turkey',\n",
       "       'Pakistan', 'Sweden', 'Norway', 'European Space Agency',\n",
       "       'Argentina', 'India', 'Brazil', 'Lebanon', 'Switzerland', 'Spain',\n",
       "       'Denmark', 'Egypt', 'Iraq', 'Iran', 'Libya', 'Israel',\n",
       "       'South Africa', 'North Korea', 'Syrian Arab Republic', 'Yemen',\n",
       "       'South Korea', 'Taiwan', 'Indonesia', 'New Zealand'], dtype=object)"
      ]
     },
     "execution_count": 17,
     "metadata": {},
     "output_type": "execute_result"
    }
   ],
   "source": [
    "launches.Country.unique()"
   ]
  },
  {
   "cell_type": "code",
   "execution_count": 18,
   "metadata": {
    "ExecuteTime": {
     "end_time": "2019-11-05T21:43:39.601518Z",
     "start_time": "2019-11-05T21:43:39.591462Z"
    }
   },
   "outputs": [
    {
     "data": {
      "text/plain": [
       "United States     10459\n",
       "Russia             8878\n",
       "France              733\n",
       "Germany             489\n",
       "China               480\n",
       "Japan               460\n",
       "United Kingdom      442\n",
       "India               328\n",
       "Canada              297\n",
       "Australia           289\n",
       "Iraq                235\n",
       "Spain               182\n",
       "Name: Country, dtype: int64"
      ]
     },
     "execution_count": 18,
     "metadata": {},
     "output_type": "execute_result"
    }
   ],
   "source": [
    "launches.Country.value_counts()[0:12]"
   ]
  },
  {
   "cell_type": "code",
   "execution_count": 19,
   "metadata": {
    "ExecuteTime": {
     "end_time": "2019-11-05T22:16:40.685826Z",
     "start_time": "2019-11-05T22:16:40.678385Z"
    }
   },
   "outputs": [
    {
     "data": {
      "text/plain": [
       "(3229, 28)"
      ]
     },
     "execution_count": 19,
     "metadata": {},
     "output_type": "execute_result"
    }
   ],
   "source": [
    "launches[launches.Year >= 1999].shape"
   ]
  },
  {
   "cell_type": "code",
   "execution_count": 33,
   "metadata": {},
   "outputs": [
    {
     "data": {
      "text/plain": [
       "C    2908\n",
       "Name: Class, dtype: int64"
      ]
     },
     "execution_count": 33,
     "metadata": {},
     "output_type": "execute_result"
    }
   ],
   "source": [
    "launches[launches.Agency == 'NASA'].Class.value_counts()"
   ]
  },
  {
   "cell_type": "code",
   "execution_count": null,
   "metadata": {},
   "outputs": [],
   "source": []
  },
  {
   "cell_type": "code",
   "execution_count": 20,
   "metadata": {},
   "outputs": [
    {
     "data": {
      "text/plain": [
       "(4617, 28)"
      ]
     },
     "execution_count": 20,
     "metadata": {},
     "output_type": "execute_result"
    }
   ],
   "source": [
    "launches[launches.Year <1965].shape"
   ]
  },
  {
   "cell_type": "code",
   "execution_count": 21,
   "metadata": {
    "ExecuteTime": {
     "end_time": "2019-11-05T22:15:06.764334Z",
     "start_time": "2019-11-05T22:15:06.753992Z"
    }
   },
   "outputs": [
    {
     "data": {
      "text/plain": [
       "United States    1309\n",
       "Russia            726\n",
       "China             319\n",
       "France            193\n",
       "India             161\n",
       "Name: Country, dtype: int64"
      ]
     },
     "execution_count": 21,
     "metadata": {},
     "output_type": "execute_result"
    }
   ],
   "source": [
    "launches[launches.Year >=1999].Country.value_counts().head(5)"
   ]
  },
  {
   "cell_type": "code",
   "execution_count": 22,
   "metadata": {},
   "outputs": [
    {
     "data": {
      "text/plain": [
       "United States    2520\n",
       "Russia           1677\n",
       "France            130\n",
       "Australia         119\n",
       "Canada             43\n",
       "Name: Country, dtype: int64"
      ]
     },
     "execution_count": 22,
     "metadata": {},
     "output_type": "execute_result"
    }
   ],
   "source": [
    "launches[launches.Year <1965].Country.value_counts().head(5)"
   ]
  },
  {
   "cell_type": "code",
   "execution_count": 87,
   "metadata": {},
   "outputs": [
    {
     "data": {
      "text/plain": [
       "(202, 28)"
      ]
     },
     "execution_count": 87,
     "metadata": {},
     "output_type": "execute_result"
    }
   ],
   "source": [
    "launches[launches.Year == 2018].shape"
   ]
  },
  {
   "cell_type": "code",
   "execution_count": 112,
   "metadata": {},
   "outputs": [
    {
     "data": {
      "text/plain": [
       "B    76\n",
       "C    70\n",
       "D    55\n",
       "A     1\n",
       "Name: Class, dtype: int64"
      ]
     },
     "execution_count": 112,
     "metadata": {},
     "output_type": "execute_result"
    }
   ],
   "source": [
    "launches[launches.Year == 2018].Class.value_counts()"
   ]
  },
  {
   "cell_type": "code",
   "execution_count": 98,
   "metadata": {},
   "outputs": [],
   "source": [
    "first30 = launches[launches.Year < 1975]"
   ]
  },
  {
   "cell_type": "code",
   "execution_count": 99,
   "metadata": {},
   "outputs": [],
   "source": [
    "first20 = launches[launches.Year < 1964]"
   ]
  },
  {
   "cell_type": "code",
   "execution_count": 103,
   "metadata": {},
   "outputs": [],
   "source": [
    "mid20 = launches[launches.Year.between(1964 ,  1984)]"
   ]
  },
  {
   "cell_type": "code",
   "execution_count": 101,
   "metadata": {},
   "outputs": [],
   "source": [
    "last30 = launches[launches.Year >1988]"
   ]
  },
  {
   "cell_type": "code",
   "execution_count": 44,
   "metadata": {},
   "outputs": [
    {
     "data": {
      "text/plain": [
       "(12601, 28)"
      ]
     },
     "execution_count": 44,
     "metadata": {},
     "output_type": "execute_result"
    }
   ],
   "source": [
    "first30.shape"
   ]
  },
  {
   "cell_type": "code",
   "execution_count": 65,
   "metadata": {},
   "outputs": [
    {
     "data": {
      "text/plain": [
       "(5497, 28)"
      ]
     },
     "execution_count": 65,
     "metadata": {},
     "output_type": "execute_result"
    }
   ],
   "source": [
    "first20.shape"
   ]
  },
  {
   "cell_type": "code",
   "execution_count": 45,
   "metadata": {},
   "outputs": [
    {
     "data": {
      "text/plain": [
       "(5443, 28)"
      ]
     },
     "execution_count": 45,
     "metadata": {},
     "output_type": "execute_result"
    }
   ],
   "source": [
    "last30.shape"
   ]
  },
  {
   "cell_type": "code",
   "execution_count": 69,
   "metadata": {},
   "outputs": [
    {
     "data": {
      "text/plain": [
       "(2051, 28)"
      ]
     },
     "execution_count": 69,
     "metadata": {},
     "output_type": "execute_result"
    }
   ],
   "source": [
    "mid20.shape"
   ]
  },
  {
   "cell_type": "code",
   "execution_count": 59,
   "metadata": {},
   "outputs": [
    {
     "data": {
      "text/plain": [
       "D    2700\n",
       "C     360\n",
       "A      57\n",
       "B      22\n",
       "Name: Class, dtype: int64"
      ]
     },
     "execution_count": 59,
     "metadata": {},
     "output_type": "execute_result"
    }
   ],
   "source": [
    "first20.Class.value_counts()"
   ]
  },
  {
   "cell_type": "code",
   "execution_count": 46,
   "metadata": {},
   "outputs": [
    {
     "data": {
      "text/plain": [
       "D    8891\n",
       "C    3449\n",
       "B     197\n",
       "A      64\n",
       "Name: Class, dtype: int64"
      ]
     },
     "execution_count": 46,
     "metadata": {},
     "output_type": "execute_result"
    }
   ],
   "source": [
    "first30.Class.value_counts()"
   ]
  },
  {
   "cell_type": "code",
   "execution_count": 47,
   "metadata": {},
   "outputs": [
    {
     "data": {
      "text/plain": [
       "D    2292\n",
       "C    1895\n",
       "B    1249\n",
       "A       7\n",
       "Name: Class, dtype: int64"
      ]
     },
     "execution_count": 47,
     "metadata": {},
     "output_type": "execute_result"
    }
   ],
   "source": [
    "last30.Class.value_counts()"
   ]
  },
  {
   "cell_type": "code",
   "execution_count": 28,
   "metadata": {},
   "outputs": [
    {
     "data": {
      "text/plain": [
       "D    13401\n",
       "C     5502\n",
       "B      307\n",
       "A       66\n",
       "Name: Class, dtype: int64"
      ]
     },
     "execution_count": 28,
     "metadata": {},
     "output_type": "execute_result"
    }
   ],
   "source": [
    "war = launches[launches.Year<1991]\n",
    "war.Class.value_counts()"
   ]
  },
  {
   "cell_type": "code",
   "execution_count": 29,
   "metadata": {},
   "outputs": [
    {
     "data": {
      "text/plain": [
       "D    1787\n",
       "C    1535\n",
       "B    1178\n",
       "A       7\n",
       "Name: Class, dtype: int64"
      ]
     },
     "execution_count": 29,
     "metadata": {},
     "output_type": "execute_result"
    }
   ],
   "source": [
    "postwar = launches[launches.Year>1991]\n",
    "postwar.Class.value_counts()"
   ]
  },
  {
   "cell_type": "code",
   "execution_count": 104,
   "metadata": {},
   "outputs": [
    {
     "data": {
      "text/plain": [
       "D    8848\n",
       "C    4434\n",
       "B     212\n",
       "A       8\n",
       "Name: Class, dtype: int64"
      ]
     },
     "execution_count": 104,
     "metadata": {},
     "output_type": "execute_result"
    }
   ],
   "source": [
    "\n",
    "mid20.Class.value_counts()"
   ]
  },
  {
   "cell_type": "code",
   "execution_count": 105,
   "metadata": {},
   "outputs": [
    {
     "data": {
      "text/plain": [
       "(13502, 28)"
      ]
     },
     "execution_count": 105,
     "metadata": {},
     "output_type": "execute_result"
    }
   ],
   "source": [
    "mid20.shape"
   ]
  },
  {
   "cell_type": "code",
   "execution_count": 108,
   "metadata": {},
   "outputs": [
    {
     "data": {
      "text/plain": [
       "(44541, 13)"
      ]
     },
     "execution_count": 108,
     "metadata": {},
     "output_type": "execute_result"
    }
   ],
   "source": [
    "satcat.shape"
   ]
  },
  {
   "cell_type": "code",
   "execution_count": 111,
   "metadata": {},
   "outputs": [
    {
     "data": {
      "text/plain": [
       "(19353, 13)"
      ]
     },
     "execution_count": 111,
     "metadata": {},
     "output_type": "execute_result"
    }
   ],
   "source": []
  }
 ],
 "metadata": {
  "kernelspec": {
   "display_name": "Python 3",
   "language": "python",
   "name": "python3"
  },
  "language_info": {
   "codemirror_mode": {
    "name": "ipython",
    "version": 3
   },
   "file_extension": ".py",
   "mimetype": "text/x-python",
   "name": "python",
   "nbconvert_exporter": "python",
   "pygments_lexer": "ipython3",
   "version": "3.7.3"
  },
  "varInspector": {
   "cols": {
    "lenName": 16,
    "lenType": 16,
    "lenVar": 40
   },
   "kernels_config": {
    "python": {
     "delete_cmd_postfix": "",
     "delete_cmd_prefix": "del ",
     "library": "var_list.py",
     "varRefreshCmd": "print(var_dic_list())"
    },
    "r": {
     "delete_cmd_postfix": ") ",
     "delete_cmd_prefix": "rm(",
     "library": "var_list.r",
     "varRefreshCmd": "cat(var_dic_list()) "
    }
   },
   "types_to_exclude": [
    "module",
    "function",
    "builtin_function_or_method",
    "instance",
    "_Feature"
   ],
   "window_display": false
  }
 },
 "nbformat": 4,
 "nbformat_minor": 2
}
